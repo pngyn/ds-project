{
 "cells": [
  {
   "cell_type": "markdown",
   "id": "9bcd41d0-f82e-48e8-b864-ba6c173e320b",
   "metadata": {
    "id": "9bcd41d0-f82e-48e8-b864-ba6c173e320b"
   },
   "source": [
    "# Project Milestone \n",
    "\n",
    "*Work-in-progress*\n",
    "\n",
    "<span style=\"color:red\">Due 3/28</span>"
   ]
  },
  {
   "cell_type": "markdown",
   "id": "9414bb95-e512-48d3-9ee7-c8627ba54588",
   "metadata": {
    "id": "9414bb95-e512-48d3-9ee7-c8627ba54588",
    "jp-MarkdownHeadingCollapsed": true
   },
   "source": [
    "### Basic Info\n",
    "\n",
    "**Team Members**\n",
    "\n",
    "- Soren Callo: u1407031@utah.edu, u1407031\n",
    "- Carter Hardy: u1538956@utah.edu, u1538956\n",
    "- Paul Nguyen: u1557320@utah.edu, u1557320\n",
    "\n",
    "**Course Page**\n",
    "\n",
    "- https://datasciencecourse.net/2025/project/"
   ]
  },
  {
   "cell_type": "markdown",
   "id": "bf2bab6b-4721-46cc-b1f3-f909b2e7f830",
   "metadata": {
    "id": "bf2bab6b-4721-46cc-b1f3-f909b2e7f830"
   },
   "source": [
    "### Background and Motivation  \n",
    "\n",
    "> Discuss your motivations and reasons for choosing this project, especially any background or research interests that may have influenced your decision.\n"
   ]
  },
  {
   "cell_type": "markdown",
   "id": "7e535a3f-ad07-449d-bc49-7ae068a6e73b",
   "metadata": {
    "id": "7e535a3f-ad07-449d-bc49-7ae068a6e73b"
   },
   "source": [
    "Being highly motivated by learning different languages as a team, a project revolving around language was something impactful and interesting to each one of us. With a background of knowing a total of 4 languages between the 3 of us, the research interest of working with different languages and language detection influenced our final decision. Although we had lots of various ideas as we were brainstorming our ideas, language was the biggest interest that we could find motivation to research."
   ]
  },
  {
   "cell_type": "markdown",
   "id": "616625ba-44a7-42eb-b70c-436beb854f38",
   "metadata": {
    "id": "616625ba-44a7-42eb-b70c-436beb854f38"
   },
   "source": [
    "### Project Objectives\n",
    "\n",
    "> Provide the primary questions you are trying to answer in your project. What would you like to learn and accomplish? List the benefits.\n",
    "> - This should include both questions about the data and any learning objectives you would like to fulfill. In other words, there are two kinds of benefits to address.\n"
   ]
  },
  {
   "cell_type": "markdown",
   "id": "1ee04d92-373e-44d8-a47d-863e272bb930",
   "metadata": {
    "id": "1ee04d92-373e-44d8-a47d-863e272bb930"
   },
   "source": [
    "Our first objective is to cluster common languages based on their linguistic properties, such as grammar, phonology, word structure, sentence structure, and so on. In doing so, the main question we would like to answer is: can we quantify the linguistic similarity of languages in a meaningful way that matches (or maybe even defies) the informal, conventional wisdom of which languages are like one another? And by selectively filtering which features we cluster by, we can learn which linguistic properties are more or less discriminating, and even some interesting particulars (for instance, two languages could be similar in sentence structure but differ drastically in phonetics).\n",
    "\n",
    "A secondary objective we may attempt is to implement a language classifier that can identify languages from a short audio sample. This is the realm of [Spoken Language Identification](https://www.sciencedirect.com/science/article/pii/S0167639324001389), and could be a small part of a fuller speech recognition system. Such a system would be beneficial in speech-to-text and automatic translation applications. What we would like to learn from this is whether accuracy language identification can be accomplished based solely on the properties of audio signal, without having to analyze the semantics of what is being spoken."
   ]
  },
  {
   "cell_type": "markdown",
   "id": "e778a796-cd47-48d6-aa96-829d5bfd0295",
   "metadata": {
    "id": "e778a796-cd47-48d6-aa96-829d5bfd0295"
   },
   "source": [
    "### Data Description and Acquisition\n",
    "\n",
    "> What format is your data in? How many items are there? What attributes do those items have? Are there special structures in it (e.g., networks, geographical)? From where and how are you collecting your data? If appropriate, provide a link to your data sources.\n",
    "> - This part should be specific enough that the instructional staff is assured you have or will be able to obtain data.\n",
    "> - If it’s online through direct download, link to the specific page from which you will download it.\n",
    "> - If you will scrape it from the web, link to the page from which you will scrape it and a statement regarding how you have confirmed you are permitted to scrape it.\n",
    "If you will use an API to access it, link to the documentation of the API and explain how you have access to that API\n",
    ">     - If it requires an account, state you have one.\n",
    ">     - If it doesn’t require an account, state that it does not require one.\n",
    "> - If it is data you have access to through other means, describe in detail what the data is, how you have access to it, and why you have permission to use it.\n"
   ]
  },
  {
   "cell_type": "markdown",
   "id": "c09e967d-7d3e-4b96-be5f-23f50b660715",
   "metadata": {
    "id": "c09e967d-7d3e-4b96-be5f-23f50b660715"
   },
   "source": [
    "Our basic data will come from from the [World Atlas of Linguistic Structures](https://wals.info/) (WALS) and/or [Grambank](https://grambank.clld.org/). This public data can be downloaded in various forms, scraped from the website, or found through GitHub repositories. From WALS or Grambank, we will construct a table of features by language, language families, and linguistic area of the features (e.g phonology, lexicon, etc.) Each language is associated with a [Glottolog](https://glottolog.org/)\\-associated Glottocode and an ISO 639-3 code which would allow us to combine datasets, especially if we explore other sources, such as [Wikitounges](https://wikitongues.org/), [Ethnologue](https://www.ethnologue.com/) (accessed through the University of Utah), or [PHOIBLE](https://phoible.org/).\n",
    "\n",
    "WALS data can be downloaded as tab-separated values, HTML, or JSON. For Grambank and Glottolog, we will likely need to work through the GitHub repository. WALS tab-separated values tables include language name, genus, and family, feature value, coordinates, and area. The features we will be exploring are typically categorical. For example, *tone* can take values *no tones, simple tonal system*, or *complex tonal system*.\n",
    "\n",
    "For audio data, we can use Mozilla's open-source [Common Voice dataset](https://commonvoice.mozilla.org/en/datasets), a vast collection of speech recordings in MP3 format. Freely available, they only require an email sign-up for contact purposes."
   ]
  },
  {
   "cell_type": "code",
   "execution_count": 16,
   "id": "9b6958c7-6e91-4c87-b853-2a3debd8fb19",
   "metadata": {},
   "outputs": [
    {
     "name": "stdout",
     "output_type": "stream",
     "text": [
      "<class 'pandas.core.frame.DataFrame'>\n",
      "RangeIndex: 2679 entries, 0 to 2678\n",
      "Columns: 202 entries, wals_code to 79B Suppletion in Imperatives and Hortatives\n",
      "dtypes: float64(2), object(200)\n",
      "memory usage: 4.1+ MB\n"
     ]
    }
   ],
   "source": [
    "import pandas as pd\n",
    "\n",
    "raw_df = pd.read_csv('data/raw/WALS.csv')\n",
    "\n",
    "raw_df.info()"
   ]
  },
  {
   "cell_type": "code",
   "execution_count": 17,
   "id": "8670b66c-45f0-4593-9a3d-d4fd46bb199a",
   "metadata": {},
   "outputs": [
    {
     "data": {
      "text/html": [
       "<div>\n",
       "<style scoped>\n",
       "    .dataframe tbody tr th:only-of-type {\n",
       "        vertical-align: middle;\n",
       "    }\n",
       "\n",
       "    .dataframe tbody tr th {\n",
       "        vertical-align: top;\n",
       "    }\n",
       "\n",
       "    .dataframe thead th {\n",
       "        text-align: right;\n",
       "    }\n",
       "</style>\n",
       "<table border=\"1\" class=\"dataframe\">\n",
       "  <thead>\n",
       "    <tr style=\"text-align: right;\">\n",
       "      <th></th>\n",
       "      <th>wals_code</th>\n",
       "      <th>iso_code</th>\n",
       "      <th>glottocode</th>\n",
       "      <th>Name</th>\n",
       "      <th>latitude</th>\n",
       "      <th>longitude</th>\n",
       "      <th>genus</th>\n",
       "      <th>family</th>\n",
       "      <th>macroarea</th>\n",
       "      <th>countrycodes</th>\n",
       "      <th>...</th>\n",
       "      <th>137B M in Second Person Singular</th>\n",
       "      <th>136B M in First Person Singular</th>\n",
       "      <th>109B Other Roles of Applied Objects</th>\n",
       "      <th>10B Nasal Vowels in West Africa</th>\n",
       "      <th>25B Zero Marking of A and P Arguments</th>\n",
       "      <th>21B Exponence of Tense-Aspect-Mood Inflection</th>\n",
       "      <th>108B Productivity of the Antipassive Construction</th>\n",
       "      <th>130B Cultural Categories of Languages with Identity of 'Finger' and 'Hand'</th>\n",
       "      <th>58B Number of Possessive Nouns</th>\n",
       "      <th>79B Suppletion in Imperatives and Hortatives</th>\n",
       "    </tr>\n",
       "  </thead>\n",
       "  <tbody>\n",
       "    <tr>\n",
       "      <th>0</th>\n",
       "      <td>aab</td>\n",
       "      <td></td>\n",
       "      <td></td>\n",
       "      <td>Arapesh (Abu)</td>\n",
       "      <td>-3.450000</td>\n",
       "      <td>142.950000</td>\n",
       "      <td>Kombio-Arapesh</td>\n",
       "      <td>Torricelli</td>\n",
       "      <td></td>\n",
       "      <td>PG</td>\n",
       "      <td>...</td>\n",
       "      <td></td>\n",
       "      <td></td>\n",
       "      <td></td>\n",
       "      <td></td>\n",
       "      <td></td>\n",
       "      <td></td>\n",
       "      <td></td>\n",
       "      <td></td>\n",
       "      <td></td>\n",
       "      <td></td>\n",
       "    </tr>\n",
       "    <tr>\n",
       "      <th>1</th>\n",
       "      <td>aar</td>\n",
       "      <td>aiw</td>\n",
       "      <td>aari1239</td>\n",
       "      <td>Aari</td>\n",
       "      <td>6.000000</td>\n",
       "      <td>36.583333</td>\n",
       "      <td>South Omotic</td>\n",
       "      <td>Afro-Asiatic</td>\n",
       "      <td>Africa</td>\n",
       "      <td>ET</td>\n",
       "      <td>...</td>\n",
       "      <td></td>\n",
       "      <td></td>\n",
       "      <td></td>\n",
       "      <td></td>\n",
       "      <td></td>\n",
       "      <td></td>\n",
       "      <td></td>\n",
       "      <td></td>\n",
       "      <td></td>\n",
       "      <td></td>\n",
       "    </tr>\n",
       "    <tr>\n",
       "      <th>2</th>\n",
       "      <td>aba</td>\n",
       "      <td>aau</td>\n",
       "      <td>abau1245</td>\n",
       "      <td>Abau</td>\n",
       "      <td>-4.000000</td>\n",
       "      <td>141.250000</td>\n",
       "      <td>Upper Sepik</td>\n",
       "      <td>Sepik</td>\n",
       "      <td>Papunesia</td>\n",
       "      <td>PG</td>\n",
       "      <td>...</td>\n",
       "      <td></td>\n",
       "      <td></td>\n",
       "      <td></td>\n",
       "      <td></td>\n",
       "      <td></td>\n",
       "      <td></td>\n",
       "      <td></td>\n",
       "      <td></td>\n",
       "      <td></td>\n",
       "      <td></td>\n",
       "    </tr>\n",
       "    <tr>\n",
       "      <th>3</th>\n",
       "      <td>abb</td>\n",
       "      <td>shu</td>\n",
       "      <td>chad1249</td>\n",
       "      <td>Arabic (Chadian)</td>\n",
       "      <td>13.833333</td>\n",
       "      <td>20.833333</td>\n",
       "      <td>Semitic</td>\n",
       "      <td>Afro-Asiatic</td>\n",
       "      <td>Africa</td>\n",
       "      <td>TD</td>\n",
       "      <td>...</td>\n",
       "      <td></td>\n",
       "      <td></td>\n",
       "      <td></td>\n",
       "      <td></td>\n",
       "      <td></td>\n",
       "      <td></td>\n",
       "      <td></td>\n",
       "      <td></td>\n",
       "      <td></td>\n",
       "      <td></td>\n",
       "    </tr>\n",
       "    <tr>\n",
       "      <th>4</th>\n",
       "      <td>abd</td>\n",
       "      <td>abi</td>\n",
       "      <td>abid1235</td>\n",
       "      <td>Abidji</td>\n",
       "      <td>5.666667</td>\n",
       "      <td>-4.583333</td>\n",
       "      <td>Kwa</td>\n",
       "      <td>Niger-Congo</td>\n",
       "      <td>Africa</td>\n",
       "      <td>CI</td>\n",
       "      <td>...</td>\n",
       "      <td></td>\n",
       "      <td></td>\n",
       "      <td></td>\n",
       "      <td></td>\n",
       "      <td></td>\n",
       "      <td></td>\n",
       "      <td></td>\n",
       "      <td></td>\n",
       "      <td></td>\n",
       "      <td></td>\n",
       "    </tr>\n",
       "    <tr>\n",
       "      <th>...</th>\n",
       "      <td>...</td>\n",
       "      <td>...</td>\n",
       "      <td>...</td>\n",
       "      <td>...</td>\n",
       "      <td>...</td>\n",
       "      <td>...</td>\n",
       "      <td>...</td>\n",
       "      <td>...</td>\n",
       "      <td>...</td>\n",
       "      <td>...</td>\n",
       "      <td>...</td>\n",
       "      <td>...</td>\n",
       "      <td>...</td>\n",
       "      <td>...</td>\n",
       "      <td>...</td>\n",
       "      <td>...</td>\n",
       "      <td>...</td>\n",
       "      <td>...</td>\n",
       "      <td>...</td>\n",
       "      <td>...</td>\n",
       "      <td>...</td>\n",
       "    </tr>\n",
       "    <tr>\n",
       "      <th>2674</th>\n",
       "      <td>zte</td>\n",
       "      <td>zpz</td>\n",
       "      <td>texm1235</td>\n",
       "      <td>Zapotec (Texmelucan)</td>\n",
       "      <td>16.500000</td>\n",
       "      <td>-97.166667</td>\n",
       "      <td>Zapotecan</td>\n",
       "      <td>Oto-Manguean</td>\n",
       "      <td>North America</td>\n",
       "      <td>MX</td>\n",
       "      <td>...</td>\n",
       "      <td></td>\n",
       "      <td></td>\n",
       "      <td></td>\n",
       "      <td></td>\n",
       "      <td></td>\n",
       "      <td></td>\n",
       "      <td></td>\n",
       "      <td></td>\n",
       "      <td></td>\n",
       "      <td></td>\n",
       "    </tr>\n",
       "    <tr>\n",
       "      <th>2675</th>\n",
       "      <td>zul</td>\n",
       "      <td>zul</td>\n",
       "      <td>zulu1248</td>\n",
       "      <td>Zulu</td>\n",
       "      <td>-30.000000</td>\n",
       "      <td>30.000000</td>\n",
       "      <td>Bantoid</td>\n",
       "      <td>Niger-Congo</td>\n",
       "      <td>Africa</td>\n",
       "      <td>ZA</td>\n",
       "      <td>...</td>\n",
       "      <td>1 No m in second person singular</td>\n",
       "      <td>2 m in first person singular</td>\n",
       "      <td>1 Instrument</td>\n",
       "      <td></td>\n",
       "      <td>2 Non-zero marking</td>\n",
       "      <td>1 monoexponential TAM</td>\n",
       "      <td>4 no antipassive</td>\n",
       "      <td></td>\n",
       "      <td>1 None reported</td>\n",
       "      <td>5 None (= no suppletive imperatives reported i...</td>\n",
       "    </tr>\n",
       "    <tr>\n",
       "      <th>2676</th>\n",
       "      <td>zun</td>\n",
       "      <td>zun</td>\n",
       "      <td>zuni1245</td>\n",
       "      <td>Zuni</td>\n",
       "      <td>35.083333</td>\n",
       "      <td>-108.833333</td>\n",
       "      <td>Zuni</td>\n",
       "      <td>Zuni</td>\n",
       "      <td>North America</td>\n",
       "      <td>US</td>\n",
       "      <td>...</td>\n",
       "      <td>1 No m in second person singular</td>\n",
       "      <td>1 No m in first person singular</td>\n",
       "      <td></td>\n",
       "      <td></td>\n",
       "      <td>2 Non-zero marking</td>\n",
       "      <td></td>\n",
       "      <td></td>\n",
       "      <td></td>\n",
       "      <td></td>\n",
       "      <td>5 None (= no suppletive imperatives reported i...</td>\n",
       "    </tr>\n",
       "    <tr>\n",
       "      <th>2677</th>\n",
       "      <td>zya</td>\n",
       "      <td>zav</td>\n",
       "      <td>yatz1235</td>\n",
       "      <td>Zapotec (Yatzachi)</td>\n",
       "      <td>17.200000</td>\n",
       "      <td>-96.200000</td>\n",
       "      <td>Zapotecan</td>\n",
       "      <td>Oto-Manguean</td>\n",
       "      <td>North America</td>\n",
       "      <td>MX</td>\n",
       "      <td>...</td>\n",
       "      <td></td>\n",
       "      <td></td>\n",
       "      <td></td>\n",
       "      <td></td>\n",
       "      <td></td>\n",
       "      <td></td>\n",
       "      <td></td>\n",
       "      <td></td>\n",
       "      <td></td>\n",
       "      <td></td>\n",
       "    </tr>\n",
       "    <tr>\n",
       "      <th>2678</th>\n",
       "      <td>zzo</td>\n",
       "      <td>zpq</td>\n",
       "      <td>zoog1238</td>\n",
       "      <td>Zapotec (Zoogocho)</td>\n",
       "      <td>17.250000</td>\n",
       "      <td>-96.250000</td>\n",
       "      <td>Zapotecan</td>\n",
       "      <td>Oto-Manguean</td>\n",
       "      <td>North America</td>\n",
       "      <td>MX</td>\n",
       "      <td>...</td>\n",
       "      <td></td>\n",
       "      <td></td>\n",
       "      <td></td>\n",
       "      <td></td>\n",
       "      <td></td>\n",
       "      <td></td>\n",
       "      <td></td>\n",
       "      <td></td>\n",
       "      <td></td>\n",
       "      <td></td>\n",
       "    </tr>\n",
       "  </tbody>\n",
       "</table>\n",
       "<p>2679 rows × 202 columns</p>\n",
       "</div>"
      ],
      "text/plain": [
       "     wals_code iso_code glottocode                  Name   latitude  \\\n",
       "0          aab                             Arapesh (Abu)  -3.450000   \n",
       "1          aar      aiw   aari1239                  Aari   6.000000   \n",
       "2          aba      aau   abau1245                  Abau  -4.000000   \n",
       "3          abb      shu   chad1249      Arabic (Chadian)  13.833333   \n",
       "4          abd      abi   abid1235                Abidji   5.666667   \n",
       "...        ...      ...        ...                   ...        ...   \n",
       "2674       zte      zpz   texm1235  Zapotec (Texmelucan)  16.500000   \n",
       "2675       zul      zul   zulu1248                  Zulu -30.000000   \n",
       "2676       zun      zun   zuni1245                  Zuni  35.083333   \n",
       "2677       zya      zav   yatz1235    Zapotec (Yatzachi)  17.200000   \n",
       "2678       zzo      zpq   zoog1238    Zapotec (Zoogocho)  17.250000   \n",
       "\n",
       "       longitude           genus        family      macroarea countrycodes  \\\n",
       "0     142.950000  Kombio-Arapesh    Torricelli                          PG   \n",
       "1      36.583333    South Omotic  Afro-Asiatic         Africa           ET   \n",
       "2     141.250000     Upper Sepik         Sepik      Papunesia           PG   \n",
       "3      20.833333         Semitic  Afro-Asiatic         Africa           TD   \n",
       "4      -4.583333             Kwa   Niger-Congo         Africa           CI   \n",
       "...          ...             ...           ...            ...          ...   \n",
       "2674  -97.166667       Zapotecan  Oto-Manguean  North America           MX   \n",
       "2675   30.000000         Bantoid   Niger-Congo         Africa           ZA   \n",
       "2676 -108.833333            Zuni          Zuni  North America           US   \n",
       "2677  -96.200000       Zapotecan  Oto-Manguean  North America           MX   \n",
       "2678  -96.250000       Zapotecan  Oto-Manguean  North America           MX   \n",
       "\n",
       "      ...  137B M in Second Person Singular  136B M in First Person Singular  \\\n",
       "0     ...                                                                      \n",
       "1     ...                                                                      \n",
       "2     ...                                                                      \n",
       "3     ...                                                                      \n",
       "4     ...                                                                      \n",
       "...   ...                               ...                              ...   \n",
       "2674  ...                                                                      \n",
       "2675  ...  1 No m in second person singular     2 m in first person singular   \n",
       "2676  ...  1 No m in second person singular  1 No m in first person singular   \n",
       "2677  ...                                                                      \n",
       "2678  ...                                                                      \n",
       "\n",
       "     109B Other Roles of Applied Objects 10B Nasal Vowels in West Africa  \\\n",
       "0                                                                          \n",
       "1                                                                          \n",
       "2                                                                          \n",
       "3                                                                          \n",
       "4                                                                          \n",
       "...                                  ...                             ...   \n",
       "2674                                                                       \n",
       "2675                        1 Instrument                                   \n",
       "2676                                                                       \n",
       "2677                                                                       \n",
       "2678                                                                       \n",
       "\n",
       "     25B Zero Marking of A and P Arguments  \\\n",
       "0                                            \n",
       "1                                            \n",
       "2                                            \n",
       "3                                            \n",
       "4                                            \n",
       "...                                    ...   \n",
       "2674                                         \n",
       "2675                    2 Non-zero marking   \n",
       "2676                    2 Non-zero marking   \n",
       "2677                                         \n",
       "2678                                         \n",
       "\n",
       "     21B Exponence of Tense-Aspect-Mood Inflection  \\\n",
       "0                                                    \n",
       "1                                                    \n",
       "2                                                    \n",
       "3                                                    \n",
       "4                                                    \n",
       "...                                            ...   \n",
       "2674                                                 \n",
       "2675                         1 monoexponential TAM   \n",
       "2676                                                 \n",
       "2677                                                 \n",
       "2678                                                 \n",
       "\n",
       "     108B Productivity of the Antipassive Construction  \\\n",
       "0                                                        \n",
       "1                                                        \n",
       "2                                                        \n",
       "3                                                        \n",
       "4                                                        \n",
       "...                                                ...   \n",
       "2674                                                     \n",
       "2675                                  4 no antipassive   \n",
       "2676                                                     \n",
       "2677                                                     \n",
       "2678                                                     \n",
       "\n",
       "     130B Cultural Categories of Languages with Identity of 'Finger' and 'Hand'  \\\n",
       "0                                                                                 \n",
       "1                                                                                 \n",
       "2                                                                                 \n",
       "3                                                                                 \n",
       "4                                                                                 \n",
       "...                                                 ...                           \n",
       "2674                                                                              \n",
       "2675                                                                              \n",
       "2676                                                                              \n",
       "2677                                                                              \n",
       "2678                                                                              \n",
       "\n",
       "     58B Number of Possessive Nouns  \\\n",
       "0                                     \n",
       "1                                     \n",
       "2                                     \n",
       "3                                     \n",
       "4                                     \n",
       "...                             ...   \n",
       "2674                                  \n",
       "2675                1 None reported   \n",
       "2676                                  \n",
       "2677                                  \n",
       "2678                                  \n",
       "\n",
       "           79B Suppletion in Imperatives and Hortatives  \n",
       "0                                                        \n",
       "1                                                        \n",
       "2                                                        \n",
       "3                                                        \n",
       "4                                                        \n",
       "...                                                 ...  \n",
       "2674                                                     \n",
       "2675  5 None (= no suppletive imperatives reported i...  \n",
       "2676  5 None (= no suppletive imperatives reported i...  \n",
       "2677                                                     \n",
       "2678                                                     \n",
       "\n",
       "[2679 rows x 202 columns]"
      ]
     },
     "execution_count": 17,
     "metadata": {},
     "output_type": "execute_result"
    }
   ],
   "source": [
    "raw_df.fillna('')"
   ]
  },
  {
   "cell_type": "markdown",
   "id": "e9a478c4-172d-48f6-ba62-bfdac62d9ab6",
   "metadata": {
    "id": "e9a478c4-172d-48f6-ba62-bfdac62d9ab6"
   },
   "source": [
    "### Ethical Considerations\n",
    "\n",
    "> Complete a stakeholder analysis for your project.\n",
    "> - Who may be affected by your project and its outcomes? How could you project be used for harm?\n",
    ">     - \"There are no ethical considerations\" must be strongly defended. No one has successfully done this before in this class."
   ]
  },
  {
   "cell_type": "markdown",
   "id": "e50ec229-6238-4ee6-a26b-96bd7152b161",
   "metadata": {
    "id": "e50ec229-6238-4ee6-a26b-96bd7152b161"
   },
   "source": [
    "This project and its outcomes can affect the different populations and people who speak the different languages we might analyze. Other people can take the results we might find and assign racist or prejudiced ideas that they create by their own bias. Some people who speak languages we analyze might be affected by their own prejudice or bias and find other languages offending. We strongly do not want to add any prejudiced ideas about language and different ethnicities in our project. We want to explore the data of different languages because we find diverse cultures and languages to be an important part of humanity and hope that this project inspires others to find language and diverse culture important and interesting, inspiring them to begin their own studies and connection.\n",
    "\n",
    "The collection of this data was not done by us, but we hope and assume that there was informed consent practiced with the different participants in this dataset and that they have consented to their data being published and allowed to be used by us. If we were to learn that a group of participants choose not to have their data be included in our project we would exclude that group and respect their wish in how their data be used. We hope that the groups who gave their data in this data collection are positively rewarded by their data being used by the results of studies both by us and anyone else who uses this data.\n",
    "\n",
    "In addition, spoken language identification could be the first step to a speaker identification system, which could be abused to violate individual privacy or even target people for advertising and other unsavory purposes."
   ]
  },
  {
   "cell_type": "markdown",
   "id": "f14b6c1c-e534-432e-840c-f50c8041e67c",
   "metadata": {
    "id": "f14b6c1c-e534-432e-840c-f50c8041e67c"
   },
   "source": [
    "### Data Cleaning and Processing\n",
    "\n",
    "> Do you expect to do substantial data cleanup or data extraction? What quantities do you plan to derive from your data? How will data processing be implemented?"
   ]
  },
  {
   "cell_type": "markdown",
   "id": "g4X1ftngYhN5",
   "metadata": {
    "id": "g4X1ftngYhN5"
   },
   "source": [
    "The datasets from the online resources previously mentioned contain enormous amounts of data, which will make the training algorithms take a lot of time and processing power. We will certainly need to filter them heavily by choosing a small set of features to focus on, or only taking a small sample of full datasets offered by these resources.\n",
    "\n",
    "For audio samples, we may need to convert them into a [spectrogram](https://en.wikipedia.org/wiki/Spectrogram) in order to process them."
   ]
  },
  {
   "cell_type": "markdown",
   "id": "813cd5e0-adb5-44d3-bbbf-c0e2f55caa6f",
   "metadata": {
    "id": "813cd5e0-adb5-44d3-bbbf-c0e2f55caa6f"
   },
   "source": [
    "### Exploratory Analysis\n",
    "\n",
    "> Which methods and visualizations are you planning to use to look at your dataset?\n"
   ]
  },
  {
   "cell_type": "markdown",
   "id": "MWeKOCUuaMPN",
   "metadata": {
    "id": "MWeKOCUuaMPN"
   },
   "source": [
    "Histograms, scatter plots, and heat maps will likely be our main visualization methods. Since there are lots of different language features, for clustering, we will need to investigate methods for visualizing high-dimensional data or apply dimensionality reduction. This is something we hope to learn in a future lecture :)"
   ]
  },
  {
   "cell_type": "markdown",
   "id": "664d65eb-10e6-47d9-92a5-8aa3c8fff2b9",
   "metadata": {
    "id": "664d65eb-10e6-47d9-92a5-8aa3c8fff2b9"
   },
   "source": [
    "### Analysis Methodology\n",
    "\n",
    "> How are you planning to analyze your data?\n",
    "> - What specific questions do you hope to calculate?\n",
    "> - What methods (from class or otherwise) do you think you will use?\n"
   ]
  },
  {
   "cell_type": "markdown",
   "id": "07a62a5e-3083-4a26-a53c-2ac5a035d294",
   "metadata": {
    "id": "07a62a5e-3083-4a26-a53c-2ac5a035d294"
   },
   "source": [
    "We will start with K-Means to try and cluster languages by a select set of linguistic features, and maybe even geographic/location data.\n",
    "We hope to be able to calculate a similarity or distance score between languages, and maybe even see how this changes when we change the feature set. For speech data, we will see if a k-Nearest Neighbors model can build an effective language identifier, and we may explore other classification methods as needed.\n"
   ]
  },
  {
   "cell_type": "markdown",
   "id": "dd54c544-3061-47b3-9d4c-3864a4f3a030",
   "metadata": {
    "id": "dd54c544-3061-47b3-9d4c-3864a4f3a030"
   },
   "source": [
    "### Project Schedule\n",
    "\n",
    "> Make sure that you plan your work so that you can avoid a big rush right before the final project deadline, and delegate different modules and responsibilities among your team members. Write this in terms of weekly deadlines."
   ]
  },
  {
   "cell_type": "markdown",
   "id": "e3c08b6e-5e4a-437f-bc1e-49dd3eb4ba62",
   "metadata": {
    "id": "e3c08b6e-5e4a-437f-bc1e-49dd3eb4ba62"
   },
   "source": [
    "**Week 1: March 17 - 21**\n",
    "\n",
    "- Acquire and clean/filter datasets\n",
    "\n",
    "**Week 2: March 24 - 28**\n",
    "\n",
    "- Explore, investigate, and understand the dataset\n",
    "- First milestone **due Friday 3/28**\n",
    "\n",
    "**Week 3: March 31 - April 4**\n",
    "\n",
    "- Perform preliminary clustering and/or classification\n",
    "- Evaluate results\n",
    "- Iterate and improve performance if possible\n",
    "\n",
    "**Week 4: April 7 - 11**\n",
    "\n",
    "- Reflect on and write up analysis of results\n",
    "- Analysis **due Friday 4/11**\n",
    "\n",
    "**Week 5: April 14 - 18**\n",
    "\n",
    "- Record video for submission (**due Friday 4/18**)\n"
   ]
  },
  {
   "cell_type": "code",
   "execution_count": 1,
   "id": "6550bda7-b1a8-4956-a575-ea905f643afb",
   "metadata": {
    "colab": {
     "base_uri": "https://localhost:8080/",
     "height": 17
    },
    "id": "6550bda7-b1a8-4956-a575-ea905f643afb",
    "outputId": "2f1461f7-be06-4bf2-834a-c9ff2caa9b3e"
   },
   "outputs": [
    {
     "data": {
      "text/html": [
       "<style>\n",
       "\tblockquote {\n",
       "\t\tcolor: gray;\n",
       "\t}\n",
       "</style>\n"
      ],
      "text/plain": [
       "<IPython.core.display.HTML object>"
      ]
     },
     "metadata": {},
     "output_type": "display_data"
    }
   ],
   "source": [
    "%%html\n",
    "<style>\n",
    "\tblockquote {\n",
    "\t\tcolor: gray;\n",
    "\t}\n",
    "</style>"
   ]
  }
 ],
 "metadata": {
  "colab": {
   "provenance": []
  },
  "kernelspec": {
   "display_name": "Python 3 (ipykernel)",
   "language": "python",
   "name": "python3"
  },
  "language_info": {
   "codemirror_mode": {
    "name": "ipython",
    "version": 3
   },
   "file_extension": ".py",
   "mimetype": "text/x-python",
   "name": "python",
   "nbconvert_exporter": "python",
   "pygments_lexer": "ipython3",
   "version": "3.12.2"
  }
 },
 "nbformat": 4,
 "nbformat_minor": 5
}
