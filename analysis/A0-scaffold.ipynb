{
 "cells": [
  {
   "cell_type": "markdown",
   "id": "b851ff59-5bc1-4e3f-8de2-bacfa2cdd4ea",
   "metadata": {},
   "source": [
    "## Analysis Scaffold\n",
    "\n",
    "Duplicate this notebook to use as a starting point for new analysis code"
   ]
  },
  {
   "cell_type": "markdown",
   "id": "acbe3424-29f6-4895-b59e-0c0fa5f6e04b",
   "metadata": {},
   "source": [
    "### Setup"
   ]
  },
  {
   "cell_type": "code",
   "execution_count": 1,
   "id": "efabd186-7042-4e38-a094-c357c584b6e3",
   "metadata": {},
   "outputs": [
    {
     "name": "stdout",
     "output_type": "stream",
     "text": [
      "Note: you may need to restart the kernel to use updated packages.\n"
     ]
    }
   ],
   "source": [
    "import pandas as pd\n",
    "import scipy as sc\n",
    "import numpy as np\n",
    "\n",
    "from sklearn import metrics\n",
    "from sklearn.model_selection import train_test_split\n",
    "from sklearn import tree\n",
    "\n",
    "import matplotlib.pyplot as plt \n",
    "plt.style.use('ggplot')\n",
    "%matplotlib inline  \n",
    "plt.rcParams['figure.figsize'] = (10, 6) \n",
    "\n",
    "%pip install seaborn | grep -v 'already satisfied'\n",
    "import seaborn as sns\n"
   ]
  },
  {
   "cell_type": "code",
   "execution_count": 4,
   "id": "7d7b5f32-b2c3-47fa-b489-4e890e392a59",
   "metadata": {},
   "outputs": [],
   "source": [
    "full_data = pd.read_csv('../data/cleaned/language_data.csv')\n",
    "sample200 = pd.read_csv('../data/cleaned/200-language-sample.csv')"
   ]
  },
  {
   "cell_type": "markdown",
   "id": "aa917557-f217-4e12-9eb4-734ea0ece3eb",
   "metadata": {},
   "source": [
    "### {Analyis Title}\n",
    "\n",
    "{Overview/Description of your analysis}"
   ]
  },
  {
   "cell_type": "code",
   "execution_count": 6,
   "id": "3c5d3e49-69ec-4b3e-99b6-e0dc0f98cd09",
   "metadata": {},
   "outputs": [],
   "source": [
    "# Change this to operate on whichever dataset you want; \n",
    "# you can also use both datasets together\n",
    "data = full_data.copy()"
   ]
  },
  {
   "cell_type": "code",
   "execution_count": null,
   "id": "afd53b33-0994-4754-a0d8-3c1314439fd0",
   "metadata": {},
   "outputs": [],
   "source": []
  },
  {
   "cell_type": "code",
   "execution_count": null,
   "id": "d01a0858-ff10-455a-8f86-552b0ed30c33",
   "metadata": {},
   "outputs": [],
   "source": []
  },
  {
   "cell_type": "markdown",
   "id": "817bf926-99db-4d01-8afb-2c4ee1963be5",
   "metadata": {},
   "source": [
    "### {Discussion}\n",
    "\n",
    "{Summary/Intepretation/Conclusions/Discussion of your analysis} "
   ]
  }
 ],
 "metadata": {
  "kernelspec": {
   "display_name": "Python 3 (ipykernel)",
   "language": "python",
   "name": "python3"
  },
  "language_info": {
   "codemirror_mode": {
    "name": "ipython",
    "version": 3
   },
   "file_extension": ".py",
   "mimetype": "text/x-python",
   "name": "python",
   "nbconvert_exporter": "python",
   "pygments_lexer": "ipython3",
   "version": "3.12.8"
  }
 },
 "nbformat": 4,
 "nbformat_minor": 5
}
