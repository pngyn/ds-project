{
 "cells": [
  {
   "cell_type": "markdown",
   "id": "1b26175d-a1d5-41ce-8722-6be260287518",
   "metadata": {},
   "source": [
    "# Insert Title\n",
    "\n"
   ]
  },
  {
   "cell_type": "markdown",
   "id": "9414bb95-e512-48d3-9ee7-c8627ba54588",
   "metadata": {},
   "source": [
    "**Basic Info**  \n",
    "The project title, your names, e-mail addresses, UIDs."
   ]
  },
  {
   "cell_type": "markdown",
   "id": "bf2bab6b-4721-46cc-b1f3-f909b2e7f830",
   "metadata": {},
   "source": [
    "**Background and Motivation**  \n",
    "Discuss your motivations and reasons for choosing this project, especially any background or research interests that may have influenced your decision.\n"
   ]
  },
  {
   "cell_type": "markdown",
   "id": "616625ba-44a7-42eb-b70c-436beb854f38",
   "metadata": {},
   "source": [
    "**Project Objectives**\n",
    "Provide the primary questions you are trying to answer in your project. What would you like to learn and accomplish? List the benefits.\n",
    "This should include both questions about the data and any learning objectives you would like to fulfill. In other words, there are two kinds of benefits to address.\n"
   ]
  },
  {
   "cell_type": "markdown",
   "id": "e778a796-cd47-48d6-aa96-829d5bfd0295",
   "metadata": {},
   "source": [
    "**Data Description and Acquisition** What format is your data in? How many items are there? What attributes do those items have? Are there special structures in it (e.g., networks, geographical)? From where and how are you collecting your data? If appropriate, provide a link to your data sources.\n",
    "This part should be specific enough that the instructional staff is assured you have or will be able to obtain data.\n",
    "If it’s online through direct download, link to the specific page from which you will download it.\n",
    "If you will scrape it from the web, link to the page from which you will scrape it and a statement regarding how you have confirmed you are permitted to scrape it.\n",
    "If you will use an API to access it, link to the documentation of the API and explain how you have access to that API\n",
    "If it requires an account, state you have one.\n",
    "If it doesn’t require an account, state that it does not require one.\n",
    "If it is data you have access to through other means, describe in detail what the data is, how you have access to it, and why you have permission to use it.\n"
   ]
  },
  {
   "cell_type": "markdown",
   "id": "3489230b-d39d-47a3-bebe-91429ad9181d",
   "metadata": {},
   "source": [
    "**Ethical Considerations** Complete a stakeholder analysis for your project.\n",
    "Who may be affected by your project and its outcomes? How could you project be used for harm?\n",
    "“There are no ethical considerations” must be strongly defended. No one successfully done this before in this class.\n",
    "Data Cleaning and Processing. Do you expect to do substantial data cleanup or data extraction? What quantities do you plan to derive from your data? How will data processing be implemented?\n"
   ]
  },
  {
   "cell_type": "markdown",
   "id": "813cd5e0-adb5-44d3-bbbf-c0e2f55caa6f",
   "metadata": {},
   "source": [
    "**Exploratory Analysis** Which methods and visualizations are you planning to use to look at your dataset?\n"
   ]
  },
  {
   "cell_type": "markdown",
   "id": "664d65eb-10e6-47d9-92a5-8aa3c8fff2b9",
   "metadata": {},
   "source": [
    "**Analysis Methodology** How are you planning to analyze your data?\n",
    "What specific questions do you hope to calculate?\n",
    "What methods (from class or otherwise) do you think you will use?\n"
   ]
  },
  {
   "cell_type": "markdown",
   "id": "dd54c544-3061-47b3-9d4c-3864a4f3a030",
   "metadata": {},
   "source": [
    "**Project Schedule** Make sure that you plan your work so that you can avoid a big rush right before the final project deadline, and delegate different modules and responsibilities among your team members. Write this in terms of weekly deadlines."
   ]
  },
  {
   "cell_type": "code",
   "execution_count": null,
   "id": "26d42caa-e854-4e41-ab77-2a0b17f32f34",
   "metadata": {},
   "outputs": [],
   "source": []
  }
 ],
 "metadata": {
  "kernelspec": {
   "display_name": "Python 3 (ipykernel)",
   "language": "python",
   "name": "python3"
  },
  "language_info": {
   "codemirror_mode": {
    "name": "ipython",
    "version": 3
   },
   "file_extension": ".py",
   "mimetype": "text/x-python",
   "name": "python",
   "nbconvert_exporter": "python",
   "pygments_lexer": "ipython3",
   "version": "3.12.7"
  }
 },
 "nbformat": 4,
 "nbformat_minor": 5
}
