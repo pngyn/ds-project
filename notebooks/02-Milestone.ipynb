{
 "cells": [
  {
   "cell_type": "markdown",
   "id": "9bcd41d0-f82e-48e8-b864-ba6c173e320b",
   "metadata": {
    "id": "9bcd41d0-f82e-48e8-b864-ba6c173e320b"
   },
   "source": [
    "# Project Milestone \n",
    "\n",
    "*Work-in-progress*\n",
    "\n",
    "<span style=\"color:red\">Due 3/28</span>"
   ]
  },
  {
   "cell_type": "markdown",
   "id": "9414bb95-e512-48d3-9ee7-c8627ba54588",
   "metadata": {
    "id": "9414bb95-e512-48d3-9ee7-c8627ba54588",
    "jp-MarkdownHeadingCollapsed": true
   },
   "source": [
    "### Basic Info\n",
    "\n",
    "**Team Members**\n",
    "\n",
    "- Soren Callo: u1407031@utah.edu, u1407031\n",
    "- Carter Hardy: u1538956@utah.edu, u1538956\n",
    "- Paul Nguyen: u1557320@utah.edu, u1557320\n",
    "\n",
    "**Course Page**\n",
    "\n",
    "- https://datasciencecourse.net/2025/project/"
   ]
  },
  {
   "cell_type": "markdown",
   "id": "bf2bab6b-4721-46cc-b1f3-f909b2e7f830",
   "metadata": {
    "id": "bf2bab6b-4721-46cc-b1f3-f909b2e7f830"
   },
   "source": [
    "### Background and Motivation  \n",
    "\n",
    "> Discuss your motivations and reasons for choosing this project, especially any background or research interests that may have influenced your decision.\n"
   ]
  },
  {
   "cell_type": "markdown",
   "id": "7e535a3f-ad07-449d-bc49-7ae068a6e73b",
   "metadata": {
    "id": "7e535a3f-ad07-449d-bc49-7ae068a6e73b"
   },
   "source": [
    "Being highly motivated by learning different languages as a team, a project revolving around language was something impactful and interesting to each one of us. With a background of knowing a total of 4 languages between the 3 of us, the research interest of working with different languages and language detection influenced our final decision. Although we had lots of various ideas as we were brainstorming our ideas, language was the biggest interest that we could find motivation to research."
   ]
  },
  {
   "cell_type": "markdown",
   "id": "616625ba-44a7-42eb-b70c-436beb854f38",
   "metadata": {
    "id": "616625ba-44a7-42eb-b70c-436beb854f38"
   },
   "source": [
    "### Project Objectives\n",
    "\n",
    "> Provide the primary questions you are trying to answer in your project. What would you like to learn and accomplish? List the benefits.\n",
    "> - This should include both questions about the data and any learning objectives you would like to fulfill. In other words, there are two kinds of benefits to address.\n"
   ]
  },
  {
   "cell_type": "markdown",
   "id": "1ee04d92-373e-44d8-a47d-863e272bb930",
   "metadata": {
    "id": "1ee04d92-373e-44d8-a47d-863e272bb930"
   },
   "source": [
    "Our first objective is to cluster common languages based on their linguistic properties, such as grammar, phonology, word structure, sentence structure, and so on. In doing so, the main question we would like to answer is: can we quantify the linguistic similarity of languages in a meaningful way that matches (or maybe even defies) the informal, conventional wisdom of which languages are like one another? And by selectively filtering which features we cluster by, we can learn which linguistic properties are more or less discriminating, and even some interesting particulars (for instance, two languages could be similar in sentence structure but differ drastically in phonetics).\n",
    "\n",
    "A secondary objective we may attempt is to implement a language classifier that can identify languages from a short audio sample. This is the realm of [Spoken Language Identification](https://www.sciencedirect.com/science/article/pii/S0167639324001389), and could be a small part of a fuller speech recognition system. Such a system would be beneficial in speech-to-text and automatic translation applications. What we would like to learn from this is whether accuracy language identification can be accomplished based solely on the properties of audio signal, without having to analyze the semantics of what is being spoken."
   ]
  },
  {
   "cell_type": "markdown",
   "id": "e778a796-cd47-48d6-aa96-829d5bfd0295",
   "metadata": {
    "id": "e778a796-cd47-48d6-aa96-829d5bfd0295"
   },
   "source": [
    "### Data Description and Acquisition\n",
    "\n",
    "> What format is your data in? How many items are there? What attributes do those items have? Are there special structures in it (e.g., networks, geographical)? From where and how are you collecting your data? If appropriate, provide a link to your data sources.\n",
    "> - This part should be specific enough that the instructional staff is assured you have or will be able to obtain data.\n",
    "> - If it’s online through direct download, link to the specific page from which you will download it.\n",
    "> - If you will scrape it from the web, link to the page from which you will scrape it and a statement regarding how you have confirmed you are permitted to scrape it.\n",
    "If you will use an API to access it, link to the documentation of the API and explain how you have access to that API\n",
    ">     - If it requires an account, state you have one.\n",
    ">     - If it doesn’t require an account, state that it does not require one.\n",
    "> - If it is data you have access to through other means, describe in detail what the data is, how you have access to it, and why you have permission to use it.\n"
   ]
  },
  {
   "cell_type": "markdown",
   "id": "c09e967d-7d3e-4b96-be5f-23f50b660715",
   "metadata": {
    "id": "c09e967d-7d3e-4b96-be5f-23f50b660715"
   },
   "source": [
    "Our basic data will come from from the [World Atlas of Linguistic Structures](https://wals.info/) (WALS) and/or [Grambank](https://grambank.clld.org/). This public data can be downloaded in various forms, scraped from the website, or found through GitHub repositories. From WALS or Grambank, we will construct a table of features by language, language families, and linguistic area of the features (e.g phonology, lexicon, etc.) Each language is associated with a [Glottolog](https://glottolog.org/)\\-associated Glottocode and an ISO 639-3 code which would allow us to combine datasets, especially if we explore other sources, such as [Wikitounges](https://wikitongues.org/), [Ethnologue](https://www.ethnologue.com/) (accessed through the University of Utah), or [PHOIBLE](https://phoible.org/).\n",
    "\n",
    "WALS data can be downloaded as tab-separated values, HTML, or JSON. For Grambank and Glottolog, we will likely need to work through the GitHub repository. WALS tab-separated values tables include language name, genus, and family, feature value, coordinates, and area. The features we will be exploring are typically categorical. For example, *tone* can take values *no tones, simple tonal system*, or *complex tonal system*.\n",
    "\n",
    "For audio data, we can use Mozilla's open-source [Common Voice dataset](https://commonvoice.mozilla.org/en/datasets), a vast collection of speech recordings in MP3 format. Freely available, they only require an email sign-up for contact purposes."
   ]
  },
  {
   "cell_type": "markdown",
   "id": "e9a478c4-172d-48f6-ba62-bfdac62d9ab6",
   "metadata": {
    "id": "e9a478c4-172d-48f6-ba62-bfdac62d9ab6"
   },
   "source": [
    "### Ethical Considerations\n",
    "\n",
    "> Complete a stakeholder analysis for your project.\n",
    "> - Who may be affected by your project and its outcomes? How could you project be used for harm?\n",
    ">     - \"There are no ethical considerations\" must be strongly defended. No one has successfully done this before in this class."
   ]
  },
  {
   "cell_type": "markdown",
   "id": "e50ec229-6238-4ee6-a26b-96bd7152b161",
   "metadata": {
    "id": "e50ec229-6238-4ee6-a26b-96bd7152b161"
   },
   "source": [
    "This project and its outcomes can affect the different populations and people who speak the different languages we might analyze. Other people can take the results we might find and assign racist or prejudiced ideas that they create by their own bias. Some people who speak languages we analyze might be affected by their own prejudice or bias and find other languages offending. We strongly do not want to add any prejudiced ideas about language and different ethnicities in our project. We want to explore the data of different languages because we find diverse cultures and languages to be an important part of humanity and hope that this project inspires others to find language and diverse culture important and interesting, inspiring them to begin their own studies and connection.\n",
    "\n",
    "The collection of this data was not done by us, but we hope and assume that there was informed consent practiced with the different participants in this dataset and that they have consented to their data being published and allowed to be used by us. If we were to learn that a group of participants choose not to have their data be included in our project we would exclude that group and respect their wish in how their data be used. We hope that the groups who gave their data in this data collection are positively rewarded by their data being used by the results of studies both by us and anyone else who uses this data.\n",
    "\n",
    "In addition, spoken language identification could be the first step to a speaker identification system, which could be abused to violate individual privacy or even target people for advertising and other unsavory purposes."
   ]
  },
  {
   "cell_type": "markdown",
   "id": "f14b6c1c-e534-432e-840c-f50c8041e67c",
   "metadata": {
    "id": "f14b6c1c-e534-432e-840c-f50c8041e67c"
   },
   "source": [
    "### Data Cleaning and Processing.\n",
    "\n",
    "> Do you expect to do substantial data cleanup or data extraction? What quantities do you plan to derive from your data? How will data processing be implemented?"
   ]
  },
  {
   "cell_type": "markdown",
   "id": "g4X1ftngYhN5",
   "metadata": {
    "id": "g4X1ftngYhN5"
   },
   "source": [
    "The datasets from the online resources previously mentioned contain enormous amounts of data, which will make the training algorithms take a lot of time and processing power. We will certainly need to filter them heavily by choosing a small set of features to focus on, or only taking a small sample of full datasets offered by these resources.\n",
    "\n",
    "For audio samples, we may need to convert them into a [spectrogram](https://en.wikipedia.org/wiki/Spectrogram) in order to process them."
   ]
  },
  {
   "cell_type": "markdown",
   "id": "813cd5e0-adb5-44d3-bbbf-c0e2f55caa6f",
   "metadata": {
    "id": "813cd5e0-adb5-44d3-bbbf-c0e2f55caa6f"
   },
   "source": [
    "### Exploratory Analysis\n",
    "\n",
    "> Which methods and visualizations are you planning to use to look at your dataset?\n"
   ]
  },
  {
   "cell_type": "markdown",
   "id": "MWeKOCUuaMPN",
   "metadata": {
    "id": "MWeKOCUuaMPN"
   },
   "source": [
    "Histograms, scatter plots, and heat maps will likely be our main visualization methods. Since there are lots of different language features, for clustering, we will need to investigate methods for visualizing high-dimensional data or apply dimensionality reduction. This is something we hope to learn in a future lecture :)"
   ]
  },
  {
   "cell_type": "markdown",
   "id": "664d65eb-10e6-47d9-92a5-8aa3c8fff2b9",
   "metadata": {
    "id": "664d65eb-10e6-47d9-92a5-8aa3c8fff2b9"
   },
   "source": [
    "### Analysis Methodology\n",
    "\n",
    "> How are you planning to analyze your data?\n",
    "> - What specific questions do you hope to calculate?\n",
    "> - What methods (from class or otherwise) do you think you will use?\n"
   ]
  },
  {
   "cell_type": "markdown",
   "id": "07a62a5e-3083-4a26-a53c-2ac5a035d294",
   "metadata": {
    "id": "07a62a5e-3083-4a26-a53c-2ac5a035d294"
   },
   "source": [
    "We will start with K-Means to try and cluster languages by a select set of linguistic features, and maybe even geographic/location data.\n",
    "We hope to be able to calculate a similarity or distance score between languages, and maybe even see how this changes when we change the feature set. For speech data, we will see if a k-Nearest Neighbors model can build an effective language identifier, and we may explore other classification methods as needed.\n"
   ]
  },
  {
   "cell_type": "markdown",
   "id": "dd54c544-3061-47b3-9d4c-3864a4f3a030",
   "metadata": {
    "id": "dd54c544-3061-47b3-9d4c-3864a4f3a030"
   },
   "source": [
    "### Project Schedule\n",
    "\n",
    "> Make sure that you plan your work so that you can avoid a big rush right before the final project deadline, and delegate different modules and responsibilities among your team members. Write this in terms of weekly deadlines."
   ]
  },
  {
   "cell_type": "markdown",
   "id": "e3c08b6e-5e4a-437f-bc1e-49dd3eb4ba62",
   "metadata": {
    "id": "e3c08b6e-5e4a-437f-bc1e-49dd3eb4ba62"
   },
   "source": [
    "**Week 1: March 17 - 21**\n",
    "\n",
    "- Acquire and clean/filter datasets\n",
    "\n",
    "**Week 2: March 24 - 28**\n",
    "\n",
    "- Explore, investigate, and understand the dataset\n",
    "- First milestone **due Friday 3/28**\n",
    "\n",
    "**Week 3: March 31 - April 4**\n",
    "\n",
    "- Perform preliminary clustering and/or classification\n",
    "- Evaluate results\n",
    "- Iterate and improve performance if possible\n",
    "\n",
    "**Week 4: April 7 - 11**\n",
    "\n",
    "- Reflect on and write up analysis of results\n",
    "- Analysis **due Friday 4/11**\n",
    "\n",
    "**Week 5: April 14 - 18**\n",
    "\n",
    "- Record video for submission (**due Friday 4/18**)\n"
   ]
  },
  {
   "cell_type": "code",
   "execution_count": 1,
   "id": "6550bda7-b1a8-4956-a575-ea905f643afb",
   "metadata": {
    "colab": {
     "base_uri": "https://localhost:8080/",
     "height": 17
    },
    "id": "6550bda7-b1a8-4956-a575-ea905f643afb",
    "outputId": "2f1461f7-be06-4bf2-834a-c9ff2caa9b3e"
   },
   "outputs": [
    {
     "data": {
      "text/html": [
       "<style>\n",
       "\tblockquote {\n",
       "\t\tcolor: gray;\n",
       "\t}\n",
       "</style>\n"
      ],
      "text/plain": [
       "<IPython.core.display.HTML object>"
      ]
     },
     "metadata": {},
     "output_type": "display_data"
    }
   ],
   "source": [
    "%%html\n",
    "<style>\n",
    "\tblockquote {\n",
    "\t\tcolor: gray;\n",
    "\t}\n",
    "</style>"
   ]
  }
 ],
 "metadata": {
  "colab": {
   "provenance": []
  },
  "kernelspec": {
   "display_name": "Python 3 (ipykernel)",
   "language": "python",
   "name": "python3"
  },
  "language_info": {
   "codemirror_mode": {
    "name": "ipython",
    "version": 3
   },
   "file_extension": ".py",
   "mimetype": "text/x-python",
   "name": "python",
   "nbconvert_exporter": "python",
   "pygments_lexer": "ipython3",
   "version": "3.12.8"
  }
 },
 "nbformat": 4,
 "nbformat_minor": 5
}
